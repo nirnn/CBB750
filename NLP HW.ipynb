{
 "cells": [
  {
   "cell_type": "code",
   "execution_count": 3,
   "metadata": {
    "collapsed": false
   },
   "outputs": [],
   "source": [
    "# EX 1 \n",
    "# I completed first 8 “lessons” at https://regexone.com/"
   ]
  },
  {
   "cell_type": "code",
   "execution_count": 104,
   "metadata": {
    "collapsed": false
   },
   "outputs": [
    {
     "name": "stdout",
     "output_type": "stream",
     "text": [
      "This will not be printed\n",
      "You won't print this\n",
      "Don'e print\n"
     ]
    }
   ],
   "source": [
    "# EX 2\n",
    "import re\n",
    "example = [\"This will not be printed\", \"You won't print this\", \"Print me!!!\", \"Don'e print\"]\n",
    "for txt in example:\n",
    "    negate = re.search(r'\\w*n[o|\\']t*', txt)\n",
    "    if negate:\n",
    "        print negate.string"
   ]
  },
  {
   "cell_type": "code",
   "execution_count": 140,
   "metadata": {
    "collapsed": false
   },
   "outputs": [
    {
     "name": "stdout",
     "output_type": "stream",
     "text": [
      "[('Fx', 'NNP'), ('of', 'IN'), (u'obes', 'NNS'), ('but', 'CC'), ('no', 'DT'), ('fx', 'NN'), ('of', 'IN'), (u'coronari', 'NN'), (u'arteri', 'NN'), (u'diseas', 'NNS'), ('.', '.')]\n"
     ]
    },
    {
     "data": {
      "text/plain": [
       "[('Fx', 'NNP'),\n",
       " ('of', 'IN'),\n",
       " (u'obes', 'NNS'),\n",
       " ('but', 'CC'),\n",
       " ('no', 'DT'),\n",
       " ('fx', 'NN'),\n",
       " ('of', 'IN'),\n",
       " (u'coronari', 'NN'),\n",
       " (u'arteri', 'NN'),\n",
       " (u'diseas', 'NNS'),\n",
       " ('.', '.')]"
      ]
     },
     "execution_count": 140,
     "metadata": {},
     "output_type": "execute_result"
    }
   ],
   "source": [
    "# EX 3\n",
    "import nltk\n",
    "import os\n",
    "from IPython.core.display import display\n",
    "\n",
    "sent = 'Fx of obesity but no fx of coronary artery diseases.'\n",
    "tokens = nltk.word_tokenize(sent)\n",
    "stemmed_tokens = [nltk.PorterStemmer().stem(t) for t in tokens]\n",
    "post_tokens = nltk.pos_tag(stemmed_tokens)\n",
    "print post_tokens\n",
    "\n",
    "os.environ['PATH'] += os.pathsep + 'C://toolkits//gs//gs9.20//bin'\n",
    "post_tokens"
   ]
  },
  {
   "cell_type": "code",
   "execution_count": 94,
   "metadata": {
    "collapsed": false
   },
   "outputs": [
    {
     "name": "stdout",
     "output_type": "stream",
     "text": [
      "WDT: WH-determiner\n",
      "    that what whatever which whichever\n",
      "[('whatever', 'WDT'), ('which', 'WDT'), ('that', 'IN')]\n"
     ]
    }
   ],
   "source": [
    "# EX 4\n",
    "# WDT is WH-determiner\n",
    "nltk.help.upenn_tagset('WDT')\n",
    "WDT_POS_tag_exaples = ['whatever', 'which']\n",
    "print nltk.pos_tag(WDT_POS_tag_exaples)"
   ]
  },
  {
   "cell_type": "code",
   "execution_count": 91,
   "metadata": {
    "collapsed": false,
    "scrolled": true
   },
   "outputs": [
    {
     "data": {
      "image/png": "[encoded data removed]",
      "text/plain": [
       "<matplotlib.figure.Figure at 0x151a5400>"
      ]
     },
     "metadata": {},
     "output_type": "display_data"
    }
   ],
   "source": [
    "# EX 5\n",
    "import itertools\n",
    "from sklearn.datasets import fetch_20newsgroups\n",
    "ng = fetch_20newsgroups(subset='train',\n",
    "                        categories=['sci.space'],\n",
    "                        remove=('headers', 'footers', 'quotes'))\n",
    "ltokens = [nltk.word_tokenize(doc) for doc in ng.data[:]]\n",
    "tokens_all = list(itertools.chain.from_iterable(ltokens)) \n",
    "txt = nltk.Text(t.lower() for t in tokens_all)\n",
    "txt.dispersion_plot(['moon', 'earth', 'sun', 'mars'])"
   ]
  },
  {
   "cell_type": "code",
   "execution_count": 120,
   "metadata": {
    "collapsed": false
   },
   "outputs": [
    {
     "data": {
      "text/plain": [
       "[(u'the', 6298),\n",
       " (u',', 6115),\n",
       " (u'.', 5557),\n",
       " (u'of', 2964),\n",
       " (u'to', 2836),\n",
       " (u'and', 2594),\n",
       " (u'a', 2535),\n",
       " (u')', 2037),\n",
       " (u'(', 1933),\n",
       " (u'in', 1811)]"
      ]
     },
     "execution_count": 120,
     "metadata": {},
     "output_type": "execute_result"
    }
   ],
   "source": [
    "# EX 7\n",
    "import itertools\n",
    "from nltk import FreqDist\n",
    "from sklearn.datasets import fetch_20newsgroups\n",
    "ng = fetch_20newsgroups(subset='train',\n",
    "                        categories=['sci.space'],\n",
    "                        remove=('headers', 'footers', 'quotes'))\n",
    "ltokens = [nltk.word_tokenize(doc) for doc in ng.data[:]]\n",
    "tokens_all = list(itertools.chain.from_iterable(ltokens)) \n",
    "txt = nltk.Text(t.lower() for t in tokens_all)\n",
    "fdist = FreqDist(txt)\n",
    "fdist.most_common(10)"
   ]
  },
  {
   "cell_type": "code",
   "execution_count": 135,
   "metadata": {
    "collapsed": false
   },
   "outputs": [
    {
     "name": "stdout",
     "output_type": "stream",
     "text": [
      "40\n",
      "132\n"
     ]
    }
   ],
   "source": [
    "# EX 8\n",
    "from sklearn.feature_extraction.text import CountVectorizer\n",
    "ngram_vectorizer = CountVectorizer(analyzer='char_wb', ngram_range=(2, 2), min_df=1)\n",
    "txt = 'Fx of obesity but no fx of coronary artery diseases.'\n",
    "counts = ngram_vectorizer.fit_transform([txt])\n",
    "print len(ngram_vectorizer.get_feature_names())\n",
    "\n",
    "ngram_vectorizer = CountVectorizer(analyzer='char_wb', ngram_range=(2, 5), min_df=1)\n",
    "txt = 'Fx of obesity but no fx of coronary artery diseases.'\n",
    "counts = ngram_vectorizer.fit_transform([txt])\n",
    "print len(ngram_vectorizer.get_feature_names())"
   ]
  },
  {
   "cell_type": "code",
   "execution_count": 136,
   "metadata": {
    "collapsed": true
   },
   "outputs": [],
   "source": [
    "# EX 9\n",
    "# Garden-path sentence is a sentence that when you start to read it, \n",
    "# you’re led to believe one thing. But when you reach the end of the sentence,\n",
    "# you realize that your initial assumptions were wrong\n",
    "# Yes, Parsey McParseface can help with pronoun resolution across sentences"
   ]
  }
 ],
 "metadata": {
  "kernelspec": {
   "display_name": "Python [conda env:ipykernel_py2]",
   "language": "python",
   "name": "conda-env-ipykernel_py2-py"
  },
  "language_info": {
   "codemirror_mode": {
    "name": "ipython",
    "version": 2
   },
   "file_extension": ".py",
   "mimetype": "text/x-python",
   "name": "python",
   "nbconvert_exporter": "python",
   "pygments_lexer": "ipython2",
   "version": "2.7.12"
  }
 },
 "nbformat": 4,
 "nbformat_minor": 1
}
