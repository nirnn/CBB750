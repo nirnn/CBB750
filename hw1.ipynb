{
 "cells": [
  {
   "cell_type": "code",
   "execution_count": 1,
   "metadata": {
    "collapsed": false
   },
   "outputs": [],
   "source": [
    "# Connect to MongoDB and create a database for this assignment.\n",
    "import pymongo\n",
    "client = pymongo.MongoClient('localhost', 27017)\n",
    "client.drop_database('hw1') # just to make sure we start from scratch\n",
    "db = client.hw1"
   ]
  },
  {
   "cell_type": "code",
   "execution_count": 2,
   "metadata": {
    "collapsed": false
   },
   "outputs": [],
   "source": [
    "# load the data from modelcollection.json and papercollection.json into Python\n",
    "import json\n",
    "with open('modelcollection.json') as model_data:\n",
    "    model_json = json.load(model_data)\n",
    "with open('papercollection.json') as paper_data:\n",
    "    paper_json = json.load(paper_data)"
   ]
  },
  {
   "cell_type": "code",
   "execution_count": 3,
   "metadata": {
    "collapsed": false
   },
   "outputs": [],
   "source": [
    "# Put the loaded data into two collections in your database. I recommend calling them models and papers.\n",
    "for item in model_json:\n",
    "    db.models.insert_one(item)\n",
    "for item in paper_json:\n",
    "    db.papers.insert_one(item)"
   ]
  },
  {
   "cell_type": "code",
   "execution_count": 4,
   "metadata": {
    "collapsed": false
   },
   "outputs": [
    {
     "data": {
      "text/plain": [
       "1114"
      ]
     },
     "execution_count": 4,
     "metadata": {},
     "output_type": "execute_result"
    }
   ],
   "source": [
    "# How many models are there?\n",
    "db.models.count()"
   ]
  },
  {
   "cell_type": "code",
   "execution_count": 5,
   "metadata": {
    "collapsed": false
   },
   "outputs": [
    {
     "name": "stdout",
     "output_type": "stream",
     "text": [
      "dict_keys(['simenvironment', 'transmitters', 'genes', 'channels', 'brainregions', 'text', 'celltypes', '_id', 'modelconcepts', 'receptors', 'references', 'title', 'modeltype'])\n"
     ]
    }
   ],
   "source": [
    "# What are the field names (keys) for the model entry with _id = 87284?\n",
    "print(db.models.find_one({\"_id\":87284}).keys())"
   ]
  },
  {
   "cell_type": "code",
   "execution_count": 6,
   "metadata": {
    "collapsed": false
   },
   "outputs": [
    {
     "data": {
      "text/plain": [
       "188"
      ]
     },
     "execution_count": 6,
     "metadata": {},
     "output_type": "execute_result"
    }
   ],
   "source": [
    "# How many distinct cell types are in the models collection?\n",
    "len(db.models.find().distinct(\"celltypes\"))"
   ]
  },
  {
   "cell_type": "code",
   "execution_count": 7,
   "metadata": {
    "collapsed": false
   },
   "outputs": [
    {
     "name": "stdout",
     "output_type": "stream",
     "text": [
      "101629\n",
      "114337\n",
      "118098\n",
      "120907\n",
      "126814\n",
      "129067\n",
      "135902\n",
      "135903\n",
      "137259\n",
      "137505\n",
      "138421\n",
      "139421\n",
      "142104\n",
      "143148\n",
      "146499\n",
      "147756\n",
      "147867\n",
      "148035\n",
      "150288\n",
      "151282\n",
      "168314\n",
      "168874\n",
      "181967\n",
      "184139\n",
      "185512\n",
      "186768\n",
      "189088\n",
      "20007\n",
      "3263\n",
      "35358\n",
      "7907\n",
      "84606\n",
      "87216\n",
      "87762\n",
      "98003\n"
     ]
    }
   ],
   "source": [
    "# Find the list of model ids for models that contain a Hippocampus CA3 pyramidal cell.\n",
    "cursor = db.models.find({\"celltypes\":\"Hippocampus CA3 pyramidal cell\"})\n",
    "for result_object in cursor:\n",
    "    print(result_object['_id'])"
   ]
  },
  {
   "cell_type": "code",
   "execution_count": 8,
   "metadata": {
    "collapsed": false
   },
   "outputs": [
    {
     "name": "stdout",
     "output_type": "stream",
     "text": [
      "['Abstract Izhikevich neuron', 'Abstract integrate-and-fire adaptive exponential (AdEx) neuron', 'Cerebellum purkinje cell', 'Dentate gyrus basket cell', 'Dentate gyrus granule cell', 'Dentate gyrus hilar cell', 'Dentate gyrus mossy cell', 'Entorhinal cortex stellate cell', 'Hippocampus CA1 axo-axonic cell', 'Hippocampus CA1 basket cell', 'Hippocampus CA1 bistratified cell', 'Hippocampus CA1 interneuron oriens alveus', 'Hippocampus CA1 pyramidal cell', 'Hippocampus CA3 axo-axonic cells', 'Hippocampus CA3 basket cell', 'Hippocampus CA3 stratum oriens lacunosum-moleculare interneuron', 'Hippocampus septum medial GABAergic neuron', 'Hodgkin-Huxley neuron', 'Neocortex fast spiking (FS) interneuron', 'Neocortex layer 2-3 pyramidal cell', 'Neocortex layer 4 pyramidal cell', 'Neocortex layer 5-6 pyramidal cell', 'Neocortex spiking regular (RS) neuron', 'Neocortical pyramidal cortical-thalamic cell', 'Pinsky-Rinzel CA1/3 pyramidal cell ']\n",
      "25\n"
     ]
    }
   ],
   "source": [
    "# What other cells appear in models with a Hippocampus CA3 pyramidal cell? \n",
    "# Sort them in alphabetical order. How many such cells are there?\n",
    "cursor = db.models.find({\"celltypes\":\"Hippocampus CA3 pyramidal cell\"})\n",
    "res = set()\n",
    "for result_object in cursor:\n",
    "    for celltype in result_object['celltypes']:\n",
    "        res.add(celltype)\n",
    "res.remove(\"Hippocampus CA3 pyramidal cell\")\n",
    "print(sorted(res))\n",
    "print(len(res))"
   ]
  },
  {
   "cell_type": "code",
   "execution_count": 19,
   "metadata": {
    "collapsed": false
   },
   "outputs": [
    {
     "data": {
      "text/plain": [
       "[{'_id': 'Neocortex layer 5-6 pyramidal cell', 'count': 108},\n",
       " {'_id': 'Hippocampus CA1 pyramidal cell', 'count': 104},\n",
       " {'_id': 'Neocortex layer 2-3 pyramidal cell', 'count': 60},\n",
       " {'_id': 'Hippocampus CA3 pyramidal cell', 'count': 35},\n",
       " {'_id': 'Neocortex fast spiking (FS) interneuron', 'count': 30},\n",
       " {'_id': 'Olfactory bulb main mitral cell', 'count': 30},\n",
       " {'_id': 'Hodgkin-Huxley neuron', 'count': 29},\n",
       " {'_id': 'Thalamus geniculate nucleus (lateral) principal neuron',\n",
       "  'count': 26},\n",
       " {'_id': 'Abstract integrate-and-fire leaky neuron', 'count': 25},\n",
       " {'_id': 'Cerebellum purkinje cell', 'count': 24},\n",
       " {'_id': 'Dentate gyrus granule cell', 'count': 24},\n",
       " {'_id': 'Neocortex spiking regular (RS) neuron', 'count': 22},\n",
       " {'_id': 'Neostriatum spiny direct pathway neuron', 'count': 22},\n",
       " {'_id': 'Neocortex spiking low threshold (LTS) neuron', 'count': 21},\n",
       " {'_id': 'Neocortex layer 4 pyramidal cell', 'count': 20},\n",
       " {'_id': 'Olfactory bulb main interneuron granule MC cell', 'count': 19},\n",
       " {'_id': 'Globus pallidus neuron', 'count': 19},\n",
       " {'_id': 'Myelinated neuron', 'count': 18},\n",
       " {'_id': 'Spinal cord motor neuron', 'count': 17},\n",
       " {'_id': 'Neocortex interneuron basket cell', 'count': 16},\n",
       " {'_id': 'Auditory nerve', 'count': 15},\n",
       " {'_id': 'Squid axon', 'count': 15},\n",
       " {'_id': 'Retina ganglion cell', 'count': 14},\n",
       " {'_id': 'Neocortex layer 5 interneuron', 'count': 14},\n",
       " {'_id': 'Thalamus reticular nucleus cell', 'count': 14},\n",
       " {'_id': 'Heart cell', 'count': 14},\n",
       " {'_id': 'Cardiac ventricular cell', 'count': 13},\n",
       " {'_id': 'Subthalamus nucleus projection neuron', 'count': 13},\n",
       " {'_id': 'Cerebellum interneuron granule cell', 'count': 13},\n",
       " {'_id': 'Dentate gyrus basket cell', 'count': 12},\n",
       " {'_id': 'Neocortex spiny stellate cell', 'count': 12},\n",
       " {'_id': 'Abstract Morris-Lecar neuron', 'count': 11},\n",
       " {'_id': 'Hippocampus CA1 basket cell', 'count': 11},\n",
       " {'_id': 'Abstract integrate-and-fire adaptive exponential (AdEx) neuron',\n",
       "  'count': 11},\n",
       " {'_id': 'Abstract Wang-Buzsaki neuron', 'count': 10},\n",
       " {'_id': 'Abstract Izhikevich neuron', 'count': 9},\n",
       " {'_id': 'Neostriatum fast spiking interneuron', 'count': 9},\n",
       " {'_id': 'Olfactory receptor neuron', 'count': 9},\n",
       " {'_id': 'Hippocampus CA1 interneuron oriens alveus', 'count': 9},\n",
       " {'_id': 'Substantia nigra pars compacta dopaminergic cell', 'count': 9},\n",
       " {'_id': 'Pituitary cell', 'count': 8},\n",
       " {'_id': 'Dentate gyrus mossy cell', 'count': 8},\n",
       " {'_id': 'Hippocampus CA3 stratum oriens lacunosum-moleculare interneuron',\n",
       "  'count': 8},\n",
       " {'_id': 'Dentate gyrus hilar cell', 'count': 8},\n",
       " {'_id': 'Cerebellum golgi cell', 'count': 8},\n",
       " {'_id': 'Neocortex layer 2-3 interneuron', 'count': 7},\n",
       " {'_id': 'Abstract single compartment conductance based cell', 'count': 7},\n",
       " {'_id': 'Olfactory bulb main interneuron periglomerular cell', 'count': 7},\n",
       " {'_id': 'Entorhinal cortex stellate cell', 'count': 7},\n",
       " {'_id': 'Dorsal root ganglion (DRG) cell', 'count': 7},\n",
       " {'_id': 'Cochlea hair cell (auditory)', 'count': 7},\n",
       " {'_id': 'Cerebellum deep nucleus neuron', 'count': 7},\n",
       " {'_id': 'Neocortex layer 6a interneuron', 'count': 6},\n",
       " {'_id': 'Hippocampus CA3 basket cell', 'count': 6},\n",
       " {'_id': 'Retina photoreceptor cone cell', 'count': 6},\n",
       " {'_id': 'Neostriatum spiny indirect pathway neuron', 'count': 6},\n",
       " {'_id': 'Aplysia sensory neuron', 'count': 6},\n",
       " {'_id': 'Neuroblastoma', 'count': 6},\n",
       " {'_id': 'Neostriatum spiny neuron', 'count': 4},\n",
       " {'_id': 'Olfactory bulb main interneuron granule TC cell', 'count': 4},\n",
       " {'_id': 'Thalamus lateral geniculate nucleus interneuron', 'count': 4},\n",
       " {'_id': 'Wide dynamic range neuron', 'count': 4},\n",
       " {'_id': 'CN stellate cell', 'count': 4},\n",
       " {'_id': 'Retina bipolar cell', 'count': 4},\n",
       " {'_id': 'Cardiac atrial cell', 'count': 4},\n",
       " {'_id': 'Aplysia motor neuron', 'count': 4},\n",
       " {'_id': 'Medial Nucleus of the Trapezoid Body (MNTB) neuron', 'count': 4},\n",
       " {'_id': 'Astrocyte', 'count': 4},\n",
       " {'_id': 'Leech heart interneuron', 'count': 4},\n",
       " {'_id': 'ELL pyramidal cell', 'count': 4},\n",
       " {'_id': 'Medial Superior Olive (MSO) cell', 'count': 4},\n",
       " {'_id': 'Hermissenda photoreceptor Type B', 'count': 3},\n",
       " {'_id': 'Suprachiasmatic nucleus (SCN) neuron', 'count': 3},\n",
       " {'_id': 'Cochlear nucleus bushy cell', 'count': 3},\n",
       " {'_id': 'Respiratory column neuron', 'count': 3},\n",
       " {'_id': 'Locust Lobula Giant Movement Detector (LGMD) neuron', 'count': 3},\n",
       " {'_id': 'NG108-15 neuronal cell', 'count': 3},\n",
       " {'_id': 'Skeletal muscle cell', 'count': 3},\n",
       " {'_id': 'Leech S cell', 'count': 3},\n",
       " {'_id': 'Vestibular neuron', 'count': 3},\n",
       " {'_id': 'Nucleus accumbens spiny projection neuron', 'count': 3},\n",
       " {'_id': 'Tritonia cerebral cell', 'count': 2},\n",
       " {'_id': 'Cochlear ganglion cell Type II', 'count': 2},\n",
       " {'_id': 'Aplysia R15 bursting neuron', 'count': 2},\n",
       " {'_id': 'Leech T segmental sensory neuron', 'count': 2},\n",
       " {'_id': 'Aplysia interneuron', 'count': 2},\n",
       " {'_id': 'Honeybee kenyon cell', 'count': 2},\n",
       " {'_id': 'Brainstem neuron', 'count': 2},\n",
       " {'_id': 'Hippocampus CA1 PV+ fast-firing interneuron', 'count': 2},\n",
       " {'_id': 'Microglia', 'count': 2},\n",
       " {'_id': 'Cochlear nucleus pyramidal (fusiform) cell', 'count': 2},\n",
       " {'_id': 'Neocortex layer 4 neuron', 'count': 2},\n",
       " {'_id': 'Neocortex layer 4 interneuron', 'count': 2},\n",
       " {'_id': 'Neocortex bitufted interneuron', 'count': 2},\n",
       " {'_id': 'Olfactory cortex anterior pyramidal neuron', 'count': 2},\n",
       " {'_id': 'Stomatogastric ganglion pyloric neuron', 'count': 2},\n",
       " {'_id': 'Vibrissa motoneuron', 'count': 2},\n",
       " {'_id': 'Stomatogastric ganglion pyloric dilator neuron', 'count': 2},\n",
       " {'_id': 'Crab Stomatogastric Ganglion (STG) Lateral Gastric (LG) cell',\n",
       "  'count': 2},\n",
       " {'_id': 'Tritonia swim interneuron ventral', 'count': 2},\n",
       " {'_id': 'Ventral cochlear nucleus T stellate (chopper) neuron', 'count': 2},\n",
       " {'_id': 'Spinal cord motor neuron slow twitch', 'count': 2},\n",
       " {'_id': 'Crab Stomatogastric Ganglion (STG) Lateral Pyloric (LP) cell',\n",
       "  'count': 2},\n",
       " {'_id': 'Abstract integrate-and-fire fractional leaky neuron', 'count': 2},\n",
       " {'_id': 'Hippocampus CA1 axo-axonic cell', 'count': 2},\n",
       " {'_id': 'Spinal lamprey neuron', 'count': 2},\n",
       " {'_id': 'Macrophage', 'count': 2},\n",
       " {'_id': 'Electric fish midbrain torus semicircularis neuron', 'count': 2},\n",
       " {'_id': 'GnRH neuron', 'count': 2},\n",
       " {'_id': 'Tritonia swim interneuron dorsal', 'count': 2},\n",
       " {'_id': 'Teleost thalamic neuron', 'count': 2},\n",
       " {'_id': 'Dentate gyrus MOPP cell', 'count': 2},\n",
       " {'_id': 'Hippocampus CA1 bistratified cell', 'count': 2},\n",
       " {'_id': 'B lymphocyte', 'count': 1},\n",
       " {'_id': 'Turtle dorsal cortex horizontal cell', 'count': 1},\n",
       " {'_id': 'Turtle dorsal cortex subpial cell', 'count': 1},\n",
       " {'_id': 'Turtle dorsal cortex lateral pyramidal cell', 'count': 1},\n",
       " {'_id': 'Electric fish P- and T-type primary afferent fibers', 'count': 1},\n",
       " {'_id': 'Myenteric interstitial cell of Cajal (ICCMY)', 'count': 1},\n",
       " {'_id': 'Spinal cord lamina I neuron', 'count': 1},\n",
       " {'_id': 'Depressor scutorum rostralis muscle cell', 'count': 1},\n",
       " {'_id': 'Crab Stomatogastric Ganglion (STG) interneuron 1 (Int1)',\n",
       "  'count': 1},\n",
       " {'_id': 'Crab Stomatogastric Ganglion (STG) Modulatory commissural neuron 1 (MCN1)',\n",
       "  'count': 1},\n",
       " {'_id': 'Pinsky-Rinzel CA1/3 pyramidal cell ', 'count': 1},\n",
       " {'_id': 'Abstract Hindmarsh-Rose neuron', 'count': 1},\n",
       " {'_id': 'Neocortical pyramidal cortical-thalamic cell', 'count': 1},\n",
       " {'_id': 'Olfactory bulb (accessory) mitral cell', 'count': 1},\n",
       " {'_id': 'Fly medulla neuron', 'count': 1},\n",
       " {'_id': 'Arteriolar network', 'count': 1},\n",
       " {'_id': 'Nucleus laminaris neuron', 'count': 1},\n",
       " {'_id': 'Fly lamina neuron', 'count': 1},\n",
       " {'_id': 'Olfactory bulb short axon cell', 'count': 1},\n",
       " {'_id': 'Olfactory bulb main tufted middle cell', 'count': 1},\n",
       " {'_id': 'Gastrointestinal tract intrinsic sensory neuron', 'count': 1},\n",
       " {'_id': 'Fly vertical system tangential cell', 'count': 1},\n",
       " {'_id': 'Leech heart motor neuron (HE)', 'count': 1},\n",
       " {'_id': 'Crayfish motor neuron', 'count': 1},\n",
       " {'_id': 'Hermissenda photoreceptor Type A', 'count': 1},\n",
       " {'_id': 'Neocortical pyramidal tract cortical-spinal cell', 'count': 1},\n",
       " {'_id': 'Hippocampus CA1 stratum oriens lacunosum-moleculare interneuron ',\n",
       "  'count': 1},\n",
       " {'_id': 'Olfactory cortex anterior interneuron superficial layer',\n",
       "  'count': 1},\n",
       " {'_id': 'Locus Coeruleus neuron', 'count': 1},\n",
       " {'_id': 'Cochlear nucleus octopus cell', 'count': 1},\n",
       " {'_id': 'Hippocampus septum medial GABAergic neuron', 'count': 1},\n",
       " {'_id': 'Hippocampus CA3 stratum radiatum lacunosum-moleculare interneuron',\n",
       "  'count': 1},\n",
       " {'_id': 'Olfactory bulb main juxtaglomerular cell', 'count': 1},\n",
       " {'_id': 'Hippocampus CA1 stratum radiatum interneuron', 'count': 1},\n",
       " {'_id': 'Neocortex dissociated cultured nerve cell', 'count': 1},\n",
       " {'_id': 'C elegans Hermaphrodite-Specific neuron (HSN)', 'count': 1},\n",
       " {'_id': 'Helix pacemaker bursting neuron (RPa1)', 'count': 1},\n",
       " {'_id': 'Olfactory cortex anterior interneuron deep layer', 'count': 1},\n",
       " {'_id': 'Hippocampus CA3 axo-axonic cells', 'count': 1},\n",
       " {'_id': 'Inferior olive neuron', 'count': 1},\n",
       " {'_id': 'Substantia nigra pars reticulata principal cell', 'count': 1},\n",
       " {'_id': 'Leech Retzius neuron', 'count': 1},\n",
       " {'_id': 'Drosophila antennal lobe DM1 projection neuron', 'count': 1},\n",
       " {'_id': 'Turtle dorsal cortex stellate cell', 'count': 1},\n",
       " {'_id': 'Leech pressure (P) mechanosensory neuron', 'count': 1},\n",
       " {'_id': 'Aplysia cultured neuron', 'count': 1},\n",
       " {'_id': 'Stick insect nonspiking interneuron', 'count': 1},\n",
       " {'_id': 'Spinal cord motor neuron fast fatiguing', 'count': 1},\n",
       " {'_id': 'Grueneberg ganglion neuron', 'count': 1},\n",
       " {'_id': 'Neocortex deep neurogliaform interneuron', 'count': 1},\n",
       " {'_id': 'Spinal cord Ia interneuron', 'count': 1},\n",
       " {'_id': 'C elegans uterine-vulval cell (uv1)', 'count': 1},\n",
       " {'_id': 'Neostriatum interneuron cholinergic cell', 'count': 1},\n",
       " {'_id': 'Spinal cord motor neuron fatigue resistant', 'count': 1},\n",
       " {'_id': 'Aplysia B31/B32 neuron', 'count': 1},\n",
       " {'_id': 'Abstract theta neuron', 'count': 1},\n",
       " {'_id': 'Thalamus DLM projection neuron', 'count': 1},\n",
       " {'_id': 'Leech C interneuron', 'count': 1},\n",
       " {'_id': 'Spinal cord renshaw cell', 'count': 1},\n",
       " {'_id': 'Spinal cord sympathetic preganglionic neuron', 'count': 1},\n",
       " {'_id': 'Turtle dorsal cortex medial pyramidal cell', 'count': 1},\n",
       " {'_id': 'Crayfish identified nonspiking interneuron', 'count': 1},\n",
       " {'_id': 'Fly lobular plate vertical system cell', 'count': 1},\n",
       " {'_id': 'Hippocampus dissociated neuron', 'count': 1},\n",
       " {'_id': 'Dorsal Root Ganglion cell: cold sensing', 'count': 1},\n",
       " {'_id': 'Spinal cord Ib interneuron', 'count': 1},\n",
       " {'_id': 'Neocortical pyramidal intra-telencephalic cell', 'count': 1},\n",
       " {'_id': 'Neocortex superficial neurogliaform interneuron', 'count': 1},\n",
       " {'_id': 'Neocortex spiking irregular interneuron', 'count': 1},\n",
       " {'_id': 'Superior paraolivary nucleus neuron', 'count': 1},\n",
       " {'_id': 'Aplysia feeding CPG neurons', 'count': 1},\n",
       " {'_id': 'Intramuscular interstitial cell of Cajal (ICCIM)', 'count': 1},\n",
       " {'_id': 'Vibrissa motor plant', 'count': 1},\n",
       " {'_id': 'Lateral Superior Olive (LSO) cell', 'count': 1},\n",
       " {'_id': 'C elegans VC motor neuron', 'count': 1}]"
      ]
     },
     "execution_count": 19,
     "metadata": {},
     "output_type": "execute_result"
    }
   ],
   "source": [
    "# How many models are there for each cell type? \n",
    "# Display the results in a formatted table,\n",
    "# sorted from most commonly appearing cell type to least commonly appearing.\n",
    "list(db.models.aggregate([\n",
    "        {\n",
    "            '$unwind': '$celltypes'\n",
    "        },\n",
    "        {\n",
    "            '$group': \n",
    "            {\n",
    "                '_id': '$celltypes',\n",
    "                'count': {'$sum': 1}\n",
    "            },\n",
    "        },\n",
    "        {\n",
    "            '$sort': {'count': -1}\n",
    "        }\n",
    "    ]))"
   ]
  },
  {
   "cell_type": "code",
   "execution_count": 33,
   "metadata": {
    "collapsed": false
   },
   "outputs": [
    {
     "name": "stdout",
     "output_type": "stream",
     "text": [
      "CA3 pyramidal neuron: firing properties (Hemond et al. 2008)\n",
      "CA1 pyramidal neuron: calculation of MRI signals (Cassara et al. 2008)\n",
      "Nigral dopaminergic neurons: effects of ethanol on Ih (Migliore et al. 2008)\n",
      "CA1 pyramidal neuron: functional significance of axonal Kv7 channels (Shah et al. 2008)\n",
      "Olfactory bulb mitral and granule cell column formation (Migliore et al. 2007)\n",
      "CA1 pyramidal neuron: h channel-dependent deficit of theta oscill. resonance (Marcelin et al. 2008)\n",
      "Ca3 pyramidal neuron: membrane response near rest (Hemond et al. 2009)\n",
      "CA1 pyramidal neurons: effects of a Kv7.2 mutation (Miceli et al. 2009)\n",
      "Computational neuropharmacology of CA1 pyramidal neuron (Ferrante et al. 2008)\n",
      "Dentate Gyrus Feed-forward inhibition (Ferrante et al. 2009)\n",
      "NAcc medium spiny neuron: effects of cannabinoid withdrawal (Spiga et al. 2010)\n",
      "CA1 pyramidal neuron: rebound spiking (Ascoli et al.2010)\n",
      "CA3 pyramidal neuron (Safiulina et al. 2010)\n",
      "Olfactory bulb cluster formation (Migliore et al. 2010)\n",
      "A model of unitary responses from A/C and PP synapses in CA3 pyramidal cells (Baker et al. 2010)\n",
      "CA1 pyramidal neuron: schizophrenic behavior (Migliore et al. 2011)\n",
      "CA1 pyramidal neurons: effects of Kv7 (M-) channels on synaptic integration (Shah et al. 2011)\n",
      "Amyloid-beta effects on release probability and integration at CA3-CA1 synapses (Romani et al. 2013)\n",
      "CA1 pyramidal neuron: effects of R213Q and R312W Kv7.2 mutations (Miceli et al. 2013)\n",
      "Model of arrhythmias in a cardiac cells network (Casaleggio et al. 2014)\n",
      "Effects of increasing CREB on storage and recall processes in a CA1 network (Bianchi et al. 2014)\n",
      "Effect of the initial synaptic state on the probability to induce LTP and LTD (Migliore et al. 2015)\n",
      "3D olfactory bulb: operators (Migliore et al, 2015)\n",
      "Early-onset epileptic encephalopathy (Miceli et al. 2015)\n",
      "Effects of electric fields on cognitive functions (Migliore et al 2016)\n",
      "CA1 pyramidal neuron: integration of subthreshold inputs from PP and SC (Migliore 2003)\n",
      "CA3 pyramidal neuron (Lazarewicz et al 2002)\n",
      "CA1 pyramidal neuron (Migliore et al 1999)\n",
      "CA1 Pyramidal Neuron: slow Na+ inactivation (Migliore 1996)\n",
      "Estimation and Production of Time Intervals (Migliore et al 2001)\n",
      "CA3 Pyramidal Neuron (Migliore et al 1995)\n",
      "CA1 pyramidal neuron: effects of Ih on distal inputs (Migliore et al 2004)\n",
      "Stochastic LTP/LTD conditioning of a synapse (Migliore and Lansky 1999)\n",
      "Olfactory bulb mitral cell: synchronization by gap junctions (Migliore et al 2005)\n",
      "CA1 pyramidal neuron: dendritic spike initiation (Gasparini et al 2004)\n",
      "Olfactory bulb granule cell: effects of odor deprivation (Saghatelyan et al 2005)\n",
      "CA1 pyramidal neuron: signal propagation in oblique dendrites (Migliore et al 2005)\n",
      "Vomeronasal sensory neuron (Shimazaki et al 2006)\n",
      "Parallel network simulations with NEURON (Migliore et al 2006)\n",
      "CA1 pyramidal neuron: conditional boosting of dendritic APs (Watanabe et al 2002)\n",
      "Modulation of temporal integration window (Migliore, Shepherd 2002)\n",
      "Amyloid beta (IA block) effects on a model CA1 pyramidal cell (Morse et al. 2010)\n",
      "CA1 pyramidal neurons: binding properties and the magical number 7 (Migliore et al. 2008)\n",
      "CA1 oriens alveus interneurons: signaling properties (Minneci et al. 2007)\n",
      "Olfactory bulb mitral and granule cell: dendrodendritic microcircuits (Migliore and Shepherd 2008)\n",
      "CA1 pyramidal neuron: effects of Lamotrigine on dendritic excitability (Poolos et al 2002)\n"
     ]
    }
   ],
   "source": [
    "# Find the model titles (not paper titles) for models that \n",
    "# (1) involve a Hippocampus CA3 pyramidal cell, and \n",
    "# (2) have an associated reference where one of the authors is \"Migliore M\".\n",
    "for model in db.models.aggregate([\n",
    "        {\n",
    "           '$unwind': '$references'\n",
    "        },\n",
    "         \n",
    "        { \n",
    "            '$lookup':\n",
    "            {\n",
    "                'from': 'papers',\n",
    "                'localField': 'references',\n",
    "                'foreignField': '_id',\n",
    "                'as': 'papers'\n",
    "            }\n",
    "        },\n",
    "        {\n",
    "            '$match':\n",
    "            {\n",
    "                'papers.authors': 'Migliore M'\n",
    "            }\n",
    "        }\n",
    "    ]):\n",
    "    print(model['title'])"
   ]
  },
  {
   "cell_type": "code",
   "execution_count": 51,
   "metadata": {
    "collapsed": false
   },
   "outputs": [],
   "source": [
    "# Find all the authors who were on a paper associated with\n",
    "# a model that involved a Hippocampus CA3 pyramidal cell. \n",
    "# Sort them in alphabetical order; \n",
    "# Give this list and state its length.\n",
    "for papaer in db.papers.aggregate([\n",
    "        {\n",
    "           '$unwind': '$_id'\n",
    "        },\n",
    "         \n",
    "        { \n",
    "            '$lookup':\n",
    "            {\n",
    "                'from': 'models',\n",
    "                'localField': '_id',\n",
    "                'foreignField': 'references',\n",
    "                'as': 'models'\n",
    "            }\n",
    "        },\n",
    "        {\n",
    "            '$match':\n",
    "            {\n",
    "                'celltypes': 'Hippocampus CA3 pyramidal cell'\n",
    "            }\n",
    "        }\n",
    "    ]):\n",
    "    print(papaer.keys())"
   ]
  },
  {
   "cell_type": "code",
   "execution_count": 56,
   "metadata": {
    "collapsed": false
   },
   "outputs": [
    {
     "data": {
      "text/plain": [
       "<pymongo.results.UpdateResult at 0x1ad0b061ca8>"
      ]
     },
     "execution_count": 56,
     "metadata": {},
     "output_type": "execute_result"
    }
   ],
   "source": [
    "# Rename the Hippocampus CA1 pyramidal cell to be the Hippocampus CA1 pyramidal neuron. \n",
    "# (Note: here we're using CA1 instead of CA3.) \n",
    "# Make sure that this is consistent across all documents in the models collection.\n",
    "db.papers.update_many({'celltypes': {'$regex': 'Hippocampus CA1 pyramidal cell'}},\n",
    "                      {'$set': {'celltypes': 'Hippocampus CA3 pyramidal cell'}})"
   ]
  },
  {
   "cell_type": "code",
   "execution_count": 59,
   "metadata": {
    "collapsed": true
   },
   "outputs": [],
   "source": [
    "# Add a new entry (make up the data, but keep it appropriate) to the models collection. \n",
    "db.papers.insert_one({\n",
    "                  'last modified': 'Jan 1st 2017',\n",
    "                  'channels': ['I Na,t', 'I Na,p', 'I Potassium', 'I A', 'I K', 'I M',\n",
    "                               'I L high threshold', 'I N', 'I T low threshold', 'I p,q',\n",
    "                               'I K,Ca', 'I h'],\n",
    "                  'transmitters': ['NO', 'Glutamate'],\n",
    "                  'average dendrite length': 4586\n",
    "              })"
   ]
  },
  {
   "cell_type": "code",
   "execution_count": 58,
   "metadata": {
    "collapsed": false
   },
   "outputs": [
    {
     "data": {
      "text/plain": [
       "<pymongo.cursor.Cursor at 0x1ad0a4ecf60>"
      ]
     },
     "execution_count": 58,
     "metadata": {},
     "output_type": "execute_result"
    }
   ],
   "source": [
    "db.models.find({})"
   ]
  },
  {
   "cell_type": "code",
   "execution_count": null,
   "metadata": {
    "collapsed": true
   },
   "outputs": [],
   "source": []
  }
 ],
 "metadata": {
  "anaconda-cloud": {},
  "kernelspec": {
   "display_name": "Python [default]",
   "language": "python",
   "name": "python3"
  },
  "language_info": {
   "codemirror_mode": {
    "name": "ipython",
    "version": 3
   },
   "file_extension": ".py",
   "mimetype": "text/x-python",
   "name": "python",
   "nbconvert_exporter": "python",
   "pygments_lexer": "ipython3",
   "version": "3.5.2"
  }
 },
 "nbformat": 4,
 "nbformat_minor": 1
}
